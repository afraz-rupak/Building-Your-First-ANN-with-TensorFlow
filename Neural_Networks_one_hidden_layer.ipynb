{
  "nbformat": 4,
  "nbformat_minor": 0,
  "metadata": {
    "colab": {
      "name": " Neural Networks one hidden layer.ipynb",
      "provenance": [],
      "authorship_tag": "ABX9TyPHZT3pOh8T3XWkwF9qDx4H",
      "include_colab_link": true
    },
    "kernelspec": {
      "name": "python3",
      "display_name": "Python 3"
    },
    "language_info": {
      "name": "python"
    }
  },
  "cells": [
    {
      "cell_type": "markdown",
      "metadata": {
        "id": "view-in-github",
        "colab_type": "text"
      },
      "source": [
        "<a href=\"https://colab.research.google.com/github/afraz-rupak/Building-Your-First-ANN-with-TensorFlow/blob/main/Neural_Networks_one_hidden_layer.ipynb\" target=\"_parent\"><img src=\"https://colab.research.google.com/assets/colab-badge.svg\" alt=\"Open In Colab\"/></a>"
      ]
    },
    {
      "cell_type": "code",
      "execution_count": 130,
      "metadata": {
        "id": "kwctmKlfjCnG"
      },
      "outputs": [],
      "source": [
        "import numpy as np\n",
        "import matplotlib.pyplot as plt\n",
        "import random"
      ]
    },
    {
      "cell_type": "code",
      "source": [
        "X_train = np.loadtxt('/content/train_X.csv', delimiter = ',').T\n",
        "Y_train = np.loadtxt('/content/train_label.csv', delimiter = ',').T\n",
        "\n",
        "X_test = np.loadtxt('/content/test_X.csv',delimiter=',').T\n",
        "Y_test = np.loadtxt('/content/test_label.csv',delimiter=',').T"
      ],
      "metadata": {
        "id": "qbqtT9RqV2T_"
      },
      "execution_count": 131,
      "outputs": []
    },
    {
      "cell_type": "code",
      "source": [
        "print('shape of x_train: ',X_train.shape)\n",
        "print('shape of y_train: ',Y_train.shape)\n",
        "\n",
        "print('shape of x_test: ',X_test.shape)\n",
        "print('shape of y_test: ',Y_test.shape)"
      ],
      "metadata": {
        "colab": {
          "base_uri": "https://localhost:8080/"
        },
        "id": "3jclq95KW5r-",
        "outputId": "9181c7f6-e2b5-44d0-d15b-532a84356657"
      },
      "execution_count": 132,
      "outputs": [
        {
          "output_type": "stream",
          "name": "stdout",
          "text": [
            "shape of x_train:  (784, 1000)\n",
            "shape of y_train:  (10, 1000)\n",
            "shape of x_test:  (784, 350)\n",
            "shape of y_test:  (10, 350)\n"
          ]
        }
      ]
    },
    {
      "cell_type": "code",
      "source": [
        "index = random.randrange(0, X_train.shape[1])\n",
        "plt.imshow(X_train[:,index].reshape(28,28), cmap='gray')\n",
        "plt.show()"
      ],
      "metadata": {
        "colab": {
          "base_uri": "https://localhost:8080/",
          "height": 265
        },
        "id": "B1mOG6WtXUH0",
        "outputId": "ee56a796-d7a9-4923-e73a-ce31cceee98f"
      },
      "execution_count": 133,
      "outputs": [
        {
          "output_type": "display_data",
          "data": {
            "text/plain": [
              "<Figure size 432x288 with 1 Axes>"
            ],
            "image/png": "[encoded data removed]"
          },
          "metadata": {
            "needs_background": "light"
          }
        }
      ]
    },
    {
      "cell_type": "markdown",
      "source": [
        "#Model"
      ],
      "metadata": {
        "id": "FEl885xhYgYl"
      }
    },
    {
      "cell_type": "code",
      "source": [
        "def tanh(x):\n",
        "  return np.tanh(x)\n",
        "\n",
        "def relu(x):\n",
        "  return np.maximum(x,0)\n",
        "\n",
        "def softmax(x):\n",
        "  expX = np.exp(x)\n",
        "  return expX/np.sum(expX, axis = 0)"
      ],
      "metadata": {
        "id": "5J4II3vdYbbu"
      },
      "execution_count": 134,
      "outputs": []
    },
    {
      "cell_type": "code",
      "source": [
        "def derivative_tanh(x):\n",
        "       return 1 -  np.power(x, 2) #correction\n",
        "\n",
        "def derivative_relu(x):\n",
        "  return np.array(x > 0, dtype = np.float32)\n",
        "\n"
      ],
      "metadata": {
        "id": "5fH1ysqTZefm"
      },
      "execution_count": 135,
      "outputs": []
    },
    {
      "cell_type": "markdown",
      "source": [
        "#Initialize Parameters"
      ],
      "metadata": {
        "id": "sSoJ0T1jaScn"
      }
    },
    {
      "cell_type": "code",
      "source": [
        "def initialize_parameters(n_x, n_h,n_y):\n",
        "  w1 = np.random.randn(n_h , n_x) *0.01\n",
        "  b1 = np.zeros((n_h , 1))\n",
        "\n",
        "  w2 = np.random.randn(n_y , n_h) *0.01\n",
        "  b2 = np.zeros((n_y , 1))\n",
        "\n",
        "  parameters = {\n",
        "      \"w1\" : w1,\n",
        "      \"b1\" : b1,\n",
        "      \"w2\" : w2,\n",
        "      \"b2\" : b2,\n",
        "  }\n",
        "  return parameters"
      ],
      "metadata": {
        "id": "HKZPpvyXaQrr"
      },
      "execution_count": 136,
      "outputs": []
    },
    {
      "cell_type": "markdown",
      "source": [
        "#Forward propagation"
      ],
      "metadata": {
        "id": "JAXkxE7BbqOk"
      }
    },
    {
      "cell_type": "code",
      "source": [
        "def forward_propagation(x, parameters):\n",
        "\n",
        "  w1 = parameters['w1']\n",
        "  b1 = parameters['b1']\n",
        "  w2 = parameters['w2']\n",
        "  b2 = parameters['b2']\n",
        "\n",
        "  z1 = np.dot(w1 , x) + b1\n",
        "  a1 = tanh(z1)\n",
        "\n",
        "  z2 = np.dot(w2 , a1) + b2\n",
        "  a2 = softmax(z2)\n",
        "\n",
        "  forward_cache = {\n",
        "      \"z1\" : z1,\n",
        "      \"a1\" : a1,\n",
        "      \"z2\" : z2,\n",
        "      \"a2\" : a2\n",
        "  }\n",
        "  return forward_cache"
      ],
      "metadata": {
        "id": "uNkW2iMpbj-0"
      },
      "execution_count": 137,
      "outputs": []
    },
    {
      "cell_type": "markdown",
      "source": [
        "#cost function"
      ],
      "metadata": {
        "id": "HIhDw0YSdUGO"
      }
    },
    {
      "cell_type": "code",
      "source": [
        "def cost_function(a2, y):\n",
        "  m = y.shape[1]\n",
        "\n",
        "  cost = -(1/m)*np.sum(y*np.log(a2))\n",
        "  #cost = -(1/m)*np.sum(y*np.log(a2, 0),1)\n",
        "  return cost"
      ],
      "metadata": {
        "id": "kM1mRxU1dSzL"
      },
      "execution_count": 138,
      "outputs": []
    },
    {
      "cell_type": "markdown",
      "source": [
        "#Backpropagation"
      ],
      "metadata": {
        "id": "r8RJIW0zd7pn"
      }
    },
    {
      "cell_type": "code",
      "source": [
        "def backward_prop(x, y, parameters, forward_cache):\n",
        "\n",
        "  w1 = parameters['w1']\n",
        "  b1 = parameters['b1']\n",
        "  w2 = parameters['w2']\n",
        "  b2 = parameters['b2'] \n",
        "    \n",
        "\n",
        "  a1 = forward_cache['a1']\n",
        "  a2 = forward_cache['a2']\n",
        "\n",
        "  m = x.shape[1]\n",
        "\n",
        "  dz2 = (a2 - y)\n",
        "  dw2 = (1/m)*np.dot(dz2, a1.T)\n",
        "  db2 = (1/m)*np.sum(dz2, axis = 1, keepdims = True)\n",
        "\n",
        "  dz1 = (1/m)*np.dot(w2.T , dz2)*derivative_tanh(a1)\n",
        "  dw1 = (1/m)*np.dot(dz1, x.T)\n",
        "  db1 = (1/m)*np.sum(dz1, axis = 1, keepdims= True)\n",
        "\n",
        "  gradients = {\n",
        "      \"dw1\" : dw1,\n",
        "      \"db1\" : db1,\n",
        "      \"dw2\" : dw2,\n",
        "      \"db2\" : db2,\n",
        "  }\n",
        "\n",
        "  return gradients"
      ],
      "metadata": {
        "id": "CzkrtJUpd6TJ"
      },
      "execution_count": 139,
      "outputs": []
    },
    {
      "cell_type": "markdown",
      "source": [
        "#update_parameters"
      ],
      "metadata": {
        "id": "1gStvOZFhjaD"
      }
    },
    {
      "cell_type": "code",
      "source": [
        "def update_parameters(parameters, gradients, learning_rate):\n",
        "    \n",
        "    # Fetching our parameters\n",
        "    w1 = parameters['w1']\n",
        "    b1 = parameters['b1']\n",
        "    w2 = parameters['w2']\n",
        "    b2 = parameters['b2'] \n",
        "    \n",
        "    # Fetching our gradients\n",
        "    dw1 = gradients['dw1']\n",
        "    db1 = gradients['db1']\n",
        "    dw2 = gradients['dw2']\n",
        "    db2 = gradients['db2']\n",
        "    \n",
        "    ## Complete the Code below ##\n",
        "    w1 = w1 - learning_rate*dw1\n",
        "    b1 = b1 - learning_rate*db1\n",
        "    w2 = w2 - learning_rate*dw2\n",
        "    b2 = b2 - learning_rate*db2\n",
        "    \n",
        "    \n",
        "    # Returning the updated parameters\n",
        "    parameters = {\n",
        "        \"w1\" : w1, \n",
        "        \"b1\" : b1, \n",
        "        \"w2\" : w2,\n",
        "        \"b2\" : b2\n",
        "    }\n",
        "    \n",
        "    return parameters"
      ],
      "metadata": {
        "id": "oUw8jpMJhMpz"
      },
      "execution_count": 140,
      "outputs": []
    },
    {
      "cell_type": "markdown",
      "source": [
        "#Complete Model"
      ],
      "metadata": {
        "id": "68v786SyikN3"
      }
    },
    {
      "cell_type": "code",
      "source": [
        "#from numpy.lib.function_base import gradient\n",
        "def model(x, y, n_h, learning_rate, iterations):\n",
        "    \n",
        "    \n",
        "    n_x =  x.shape[0]                      # must return the number of neurons/features in input layer\n",
        "    n_y =  y.shape[0]                     # must return the number of neurons in output layer\n",
        "    \n",
        "    \n",
        "    cost_list = []\n",
        "    \n",
        "   \n",
        "    parameters = initialize_parameters(n_x, n_h, n_y)\n",
        "    \n",
        "    \n",
        "    for i in range(iterations):\n",
        "        \n",
        "        # Forward Propagation\n",
        "        forward_cache = forward_propagation(x, parameters)\n",
        "        # Cost Function\n",
        "        cost = cost_function(forward_cache['a2'], y)\n",
        "        \n",
        "        # Backward propagation\n",
        "        gradients = backward_prop(x, y, parameters,  forward_cache)\n",
        "        # Update Parameters\n",
        "        parameters = update_parameters(parameters,gradients,learning_rate)\n",
        "        cost_list.append(cost)\n",
        "        \n",
        "        if (i%(iterations/10) == 0) :\n",
        "            print(\"cost after\", i, \"iters is\" , cost)\n",
        "            \n",
        "            \n",
        "    \n",
        "    return parameters, cost_list"
      ],
      "metadata": {
        "id": "IiATCw8SidyE"
      },
      "execution_count": 141,
      "outputs": []
    },
    {
      "cell_type": "code",
      "source": [
        "## Complete the Code Below ##\n",
        "\n",
        "n_h = 1000\n",
        "learning_rate = 0.02\n",
        "iterations = 500\n",
        "\n",
        "## Model Code ends ##\n",
        "\n",
        "Parameters, Cost_list = model(X_train, Y_train, n_h = n_h, learning_rate = learning_rate, iterations = iterations)"
      ],
      "metadata": {
        "colab": {
          "base_uri": "https://localhost:8080/"
        },
        "id": "2Uzbv1YCB3Tn",
        "outputId": "a0ec22aa-e19b-4116-9f70-18e5b4770f5d"
      },
      "execution_count": 142,
      "outputs": [
        {
          "output_type": "stream",
          "name": "stdout",
          "text": [
            "cost after 0 iters is 2.3256318968785186\n",
            "cost after 50 iters is 0.49182339084189836\n",
            "cost after 100 iters is 0.31349543093058396\n",
            "cost after 150 iters is 0.22995333077847646\n",
            "cost after 200 iters is 0.17873917696179842\n",
            "cost after 250 iters is 0.14389294781641165\n",
            "cost after 300 iters is 0.11887212833236589\n",
            "cost after 350 iters is 0.10029578722796889\n",
            "cost after 400 iters is 0.08615430894996984\n",
            "cost after 450 iters is 0.07514820675908081\n"
          ]
        }
      ]
    },
    {
      "cell_type": "code",
      "source": [
        "t = np.arange(0 , iterations)\n",
        "plt.plot(t,Cost_list)\n",
        "plt.show()"
      ],
      "metadata": {
        "colab": {
          "base_uri": "https://localhost:8080/",
          "height": 265
        },
        "id": "VbRnxcROJLUe",
        "outputId": "c85e22aa-8c78-4bef-949d-964a7df80656"
      },
      "execution_count": 143,
      "outputs": [
        {
          "output_type": "display_data",
          "data": {
            "text/plain": [
              "<Figure size 432x288 with 1 Axes>"
            ],
            "image/png": "[encoded data removed]"
          },
          "metadata": {
            "needs_background": "light"
          }
        }
      ]
    },
    {
      "cell_type": "code",
      "source": [
        "def accuracy(inp,labels,parameters):\n",
        "  forward_cache = forward_propagation(inp, Parameters)\n",
        "  a_out = forward_cache['a2']\n",
        "  a_out = np.argmax(a_out, 0)\n",
        "\n",
        "  y_out = np.argmax(labels, 0)\n",
        "  a_out == y_out\n",
        "\n",
        "  acc = np.mean(a_out == y_out)*100\n",
        "  return acc"
      ],
      "metadata": {
        "id": "J_CTtCMwJpB9"
      },
      "execution_count": 144,
      "outputs": []
    },
    {
      "cell_type": "code",
      "source": [
        "print(\"Accuracy of Train Dataset\", accuracy(X_train, Y_train, Parameters), \"%\")\n",
        "print(\"Accuracy of Test Dataset\", round(accuracy(X_test, Y_test, Parameters), 2), \"%\")"
      ],
      "metadata": {
        "colab": {
          "base_uri": "https://localhost:8080/"
        },
        "id": "xNOdpsnaLfg-",
        "outputId": "6e56dbdc-970d-43a3-8a9e-3883adde5e60"
      },
      "execution_count": 145,
      "outputs": [
        {
          "output_type": "stream",
          "name": "stdout",
          "text": [
            "Accuracy of Train Dataset 100.0 %\n",
            "Accuracy of Test Dataset 88.0 %\n"
          ]
        }
      ]
    },
    {
      "cell_type": "code",
      "source": [
        "idx = random.randrange(0, X_test.shape[1])\n",
        "plt.imshow(X_test[:,idx].reshape(28,28), cmap='gray')\n",
        "plt.show()\n",
        "\n",
        "forward_cache = forward_propagation(X_test[:, idx].reshape(X_test.shape[0], 1), Parameters)\n",
        "a_out = forward_cache['a2']\n",
        "a_out = np.argmax(a_out, 0)\n",
        "\n",
        "print('Our model says, it is : ',a_out[0])\n",
        "\n"
      ],
      "metadata": {
        "colab": {
          "base_uri": "https://localhost:8080/",
          "height": 284
        },
        "id": "xma3EZsxTzA1",
        "outputId": "593fe703-e9b7-44fb-8cba-1b5137f87017"
      },
      "execution_count": 146,
      "outputs": [
        {
          "output_type": "display_data",
          "data": {
            "text/plain": [
              "<Figure size 432x288 with 1 Axes>"
            ],
            "image/png": "[encoded data removed]"
          },
          "metadata": {
            "needs_background": "light"
          }
        },
        {
          "output_type": "stream",
          "name": "stdout",
          "text": [
            "Our model says, it is :  9\n"
          ]
        }
      ]
    }
  ]
}